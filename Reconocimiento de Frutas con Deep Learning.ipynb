{
  "nbformat": 4,
  "nbformat_minor": 0,
  "metadata": {
    "colab": {
      "provenance": []
    },
    "kernelspec": {
      "name": "python3",
      "display_name": "Python 3"
    },
    "language_info": {
      "name": "python"
    },
    "accelerator": "GPU",
    "gpuClass": "standard"
  },
  "cells": [
    {
      "cell_type": "code",
      "execution_count": null,
      "metadata": {
        "id": "g_hyuxWd_oqy"
      },
      "outputs": [],
      "source": [
        "from google.colab import drive"
      ]
    },
    {
      "cell_type": "code",
      "source": [
        "import numpy as np\n",
        "import os\n",
        "import re\n",
        "import matplotlib.pyplot as plt\n",
        "%matplotlib inline\n",
        "from sklearn.model_selection import train_test_split\n",
        "from sklearn.metrics import classification_report\n",
        "import keras\n",
        "from keras.utils import to_categorical\n",
        "from keras.layers import Dense, Dropout, Flatten\n",
        "from keras.layers import Conv2D, MaxPooling2D\n",
        "from keras.models import Sequential\n",
        "from keras.layers import Dense\n",
        "from keras.layers import LeakyReLU"
      ],
      "metadata": {
        "id": "tur0XUznBGgL"
      },
      "execution_count": null,
      "outputs": []
    },
    {
      "cell_type": "code",
      "source": [
        "drive.mount('/content/drive')"
      ],
      "metadata": {
        "colab": {
          "base_uri": "https://localhost:8080/"
        },
        "id": "HyyjPkfpAWCL",
        "outputId": "b359af37-e71e-4639-b40f-a3dad3c1b507"
      },
      "execution_count": null,
      "outputs": [
        {
          "output_type": "stream",
          "name": "stdout",
          "text": [
            "Mounted at /content/drive\n"
          ]
        }
      ]
    },
    {
      "cell_type": "code",
      "source": [
        "dirname = os.path.join(os.getcwd(), 'drive','MyDrive','Archivos para ML','FrutasExamenSmall')\n",
        "imgpath = dirname + os.sep\n",
        "\n",
        "images = []\n",
        "directories = []\n",
        "dircount = []\n",
        "prevRoot=''\n",
        "cant=0\n",
        "print(\"leyendo imagenes de \",imgpath)\n",
        "\n",
        "for root, dirnames, filenames in os.walk(imgpath):\n",
        "    for filename in filenames:\n",
        "        if re.search(\"\\.(jpg|jpeg|png|bmp|tiff)$\", filename):\n",
        "            cant=cant+1\n",
        "            filepath = os.path.join(root, filename)\n",
        "            image = plt.imread(filepath)\n",
        "            images.append(image)\n",
        "            if prevRoot !=root:\n",
        "                print(root, cant)\n",
        "                prevRoot=root\n",
        "                directories.append(root)\n",
        "                dircount.append(cant)\n",
        "                cant=0\n",
        "\n",
        "dircount.append(cant)\n",
        "print('Elementos del arreglo de imagenes: ',len(images))\n",
        "dircount = dircount[1:]\n",
        "dircount[2]=dircount[2]+1\n",
        "print('Directorios leidos:',len(directories))\n",
        "print(\"Imagenes en cada directorio\", dircount)\n",
        "print('suma Total de imagenes en subdirs:',sum(dircount))"
      ],
      "metadata": {
        "colab": {
          "base_uri": "https://localhost:8080/"
        },
        "id": "pF311SzUBxbc",
        "outputId": "87b35bd1-96e1-4380-bbc0-dc9c844eaf5b"
      },
      "execution_count": null,
      "outputs": [
        {
          "output_type": "stream",
          "name": "stdout",
          "text": [
            "leyendo imagenes de  /content/drive/MyDrive/Archivos para ML/FrutasExamenSmall/\n",
            "/content/drive/MyDrive/Archivos para ML/FrutasExamenSmall/Pera 1\n",
            "/content/drive/MyDrive/Archivos para ML/FrutasExamenSmall/Palta 30\n",
            "/content/drive/MyDrive/Archivos para ML/FrutasExamenSmall/Mango 30\n",
            "Elementos del arreglo de imagenes:  90\n",
            "Directorios leidos: 3\n",
            "Imagenes en cada directorio [30, 30, 30]\n",
            "suma Total de imagenes en subdirs: 90\n"
          ]
        }
      ]
    },
    {
      "cell_type": "code",
      "source": [
        "labels=[]\n",
        "indice=0\n",
        "for cantidad in dircount:\n",
        "    for i in range(cantidad):\n",
        "        labels.append(indice)\n",
        "    indice=indice+1\n",
        "print(\"Cantidad etiquetas creadas: \",len(labels))\n",
        "\n",
        "frutas=[]\n",
        "indice=0\n",
        "for directorio in directories:\n",
        "    name = directorio.split(os.sep)\n",
        "    print(indice , name[len(name)-1])\n",
        "    frutas.append(name[len(name)-1])\n",
        "    indice=indice+1\n",
        "\n",
        "y = np.array(labels)\n",
        "X = np.array(images, dtype=np.uint8)\n",
        "\n",
        "classes = np.unique(y)\n",
        "nClasses = len(classes)\n",
        "print('Total de salidas : ', nClasses)\n",
        "print('Output classes : ', classes)"
      ],
      "metadata": {
        "id": "qavIYqA2DsQU",
        "colab": {
          "base_uri": "https://localhost:8080/"
        },
        "outputId": "f73a3be9-a2f3-49c2-f683-3e645b13f496"
      },
      "execution_count": null,
      "outputs": [
        {
          "output_type": "stream",
          "name": "stdout",
          "text": [
            "Cantidad etiquetas creadas:  90\n",
            "0 Pera\n",
            "1 Palta\n",
            "2 Mango\n",
            "Total de salidas :  3\n",
            "Output classes :  [0 1 2]\n"
          ]
        }
      ]
    },
    {
      "cell_type": "code",
      "source": [
        "#Crear grupos de entranmiento y testeo\n",
        "train_X,test_X,train_Y,test_Y = train_test_split(X,y,test_size=0.33)\n",
        "print('(Datos de entranamieno, ancho, alto, rgb) : ', train_X.shape, train_Y.shape)\n",
        "print('(Datos de testeo, ancho, alto, rgb) : ', test_X.shape, test_Y.shape)\n",
        "\n",
        "train_X = train_X.astype('float32')\n",
        "test_X = test_X.astype('float32')\n",
        "train_X = train_X / 255.\n",
        "test_X = test_X / 255.\n",
        "\n",
        "# Aplicando one-hot encoding\n",
        "train_Y_one_hot = to_categorical(train_Y)\n",
        "test_Y_one_hot = to_categorical(test_Y)\n",
        "\n",
        "train_X,valid_X,train_label,valid_label = train_test_split(train_X, train_Y_one_hot, test_size=0.2, random_state=13)\n"
      ],
      "metadata": {
        "colab": {
          "base_uri": "https://localhost:8080/"
        },
        "id": "YejZJCF0LpY8",
        "outputId": "14f00bd5-83d5-4275-a708-bdc0ebd03505"
      },
      "execution_count": null,
      "outputs": [
        {
          "output_type": "stream",
          "name": "stdout",
          "text": [
            "(Datos de entranamieno, ancho, alto, rgb) :  (60, 75, 100, 3) (60,)\n",
            "(Datos de testeo, ancho, alto, rgb) :  (30, 75, 100, 3) (30,)\n"
          ]
        }
      ]
    },
    {
      "cell_type": "code",
      "source": [
        "INIT_LR = 1e-3\n",
        "epochs = 40\n",
        "batch_size = 32\n",
        "\n",
        "sport_model = Sequential()\n",
        "sport_model.add(Conv2D(32, kernel_size=(3, 3),activation='linear',padding='same',input_shape=(75,100,3)))\n",
        "sport_model.add(LeakyReLU(alpha=0.1))\n",
        "sport_model.add(MaxPooling2D((2, 2),padding='same'))\n",
        "sport_model.add(Dropout(0.5))\n",
        "\n",
        "sport_model.add(Flatten())\n",
        "sport_model.add(Dense(32, activation='linear'))\n",
        "sport_model.add(LeakyReLU(alpha=0.1))\n",
        "sport_model.add(Dropout(0.5))\n",
        "sport_model.add(Dense(nClasses, activation='softmax'))\n",
        "\n",
        "sport_model.summary()\n",
        "\n",
        "sport_model.compile(loss=keras.losses.categorical_crossentropy, optimizer=keras.optimizers.Adagrad(lr=INIT_LR, decay=INIT_LR / 100),metrics=['accuracy'])"
      ],
      "metadata": {
        "colab": {
          "base_uri": "https://localhost:8080/"
        },
        "id": "0Q47INbTPLlb",
        "outputId": "03bd25bf-64fc-4b02-9693-b98730809375"
      },
      "execution_count": null,
      "outputs": [
        {
          "output_type": "stream",
          "name": "stdout",
          "text": [
            "Model: \"sequential\"\n",
            "_________________________________________________________________\n",
            " Layer (type)                Output Shape              Param #   \n",
            "=================================================================\n",
            " conv2d (Conv2D)             (None, 75, 100, 32)       896       \n",
            "                                                                 \n",
            " leaky_re_lu (LeakyReLU)     (None, 75, 100, 32)       0         \n",
            "                                                                 \n",
            " max_pooling2d (MaxPooling2D  (None, 38, 50, 32)       0         \n",
            " )                                                               \n",
            "                                                                 \n",
            " dropout (Dropout)           (None, 38, 50, 32)        0         \n",
            "                                                                 \n",
            " flatten (Flatten)           (None, 60800)             0         \n",
            "                                                                 \n",
            " dense (Dense)               (None, 32)                1945632   \n",
            "                                                                 \n",
            " leaky_re_lu_1 (LeakyReLU)   (None, 32)                0         \n",
            "                                                                 \n",
            " dropout_1 (Dropout)         (None, 32)                0         \n",
            "                                                                 \n",
            " dense_1 (Dense)             (None, 3)                 99        \n",
            "                                                                 \n",
            "=================================================================\n",
            "Total params: 1,946,627\n",
            "Trainable params: 1,946,627\n",
            "Non-trainable params: 0\n",
            "_________________________________________________________________\n"
          ]
        },
        {
          "output_type": "stream",
          "name": "stderr",
          "text": [
            "/usr/local/lib/python3.10/dist-packages/keras/optimizers/legacy/adagrad.py:84: UserWarning: The `lr` argument is deprecated, use `learning_rate` instead.\n",
            "  super().__init__(name, **kwargs)\n"
          ]
        }
      ]
    },
    {
      "cell_type": "code",
      "source": [
        "sport_train_dropout = sport_model.fit(train_X, train_label, batch_size=batch_size,epochs=epochs,verbose=1,validation_data=(valid_X, valid_label))\n",
        "\n"
      ],
      "metadata": {
        "id": "WYVFMIKsAcZa",
        "colab": {
          "base_uri": "https://localhost:8080/"
        },
        "outputId": "eac8c132-7888-4c92-b9d5-2ce92cc01ddd"
      },
      "execution_count": null,
      "outputs": [
        {
          "output_type": "stream",
          "name": "stdout",
          "text": [
            "Epoch 1/40\n",
            "2/2 [==============================] - 9s 381ms/step - loss: 1.1430 - accuracy: 0.3542 - val_loss: 1.2167 - val_accuracy: 0.4167\n",
            "Epoch 2/40\n",
            "2/2 [==============================] - 0s 35ms/step - loss: 1.1554 - accuracy: 0.5208 - val_loss: 1.0175 - val_accuracy: 0.4167\n",
            "Epoch 3/40\n",
            "2/2 [==============================] - 0s 34ms/step - loss: 1.1790 - accuracy: 0.4167 - val_loss: 1.2089 - val_accuracy: 0.4167\n",
            "Epoch 4/40\n",
            "2/2 [==============================] - 0s 35ms/step - loss: 1.2311 - accuracy: 0.3958 - val_loss: 1.2071 - val_accuracy: 0.4167\n",
            "Epoch 5/40\n",
            "2/2 [==============================] - 0s 42ms/step - loss: 1.1256 - accuracy: 0.3958 - val_loss: 1.0350 - val_accuracy: 0.4167\n",
            "Epoch 6/40\n",
            "2/2 [==============================] - 0s 33ms/step - loss: 1.0752 - accuracy: 0.3958 - val_loss: 1.0151 - val_accuracy: 0.6667\n",
            "Epoch 7/40\n",
            "2/2 [==============================] - 0s 34ms/step - loss: 1.0638 - accuracy: 0.4583 - val_loss: 1.0148 - val_accuracy: 0.7500\n",
            "Epoch 8/40\n",
            "2/2 [==============================] - 0s 35ms/step - loss: 1.0663 - accuracy: 0.4167 - val_loss: 0.9779 - val_accuracy: 0.8333\n",
            "Epoch 9/40\n",
            "2/2 [==============================] - 0s 34ms/step - loss: 1.0760 - accuracy: 0.5000 - val_loss: 1.0045 - val_accuracy: 0.7500\n",
            "Epoch 10/40\n",
            "2/2 [==============================] - 0s 36ms/step - loss: 1.0355 - accuracy: 0.5000 - val_loss: 0.9704 - val_accuracy: 0.4167\n",
            "Epoch 11/40\n",
            "2/2 [==============================] - 0s 35ms/step - loss: 1.0692 - accuracy: 0.4792 - val_loss: 1.0178 - val_accuracy: 0.4167\n",
            "Epoch 12/40\n",
            "2/2 [==============================] - 0s 37ms/step - loss: 1.0629 - accuracy: 0.4792 - val_loss: 0.9599 - val_accuracy: 0.7500\n",
            "Epoch 13/40\n",
            "2/2 [==============================] - 0s 37ms/step - loss: 1.1154 - accuracy: 0.3750 - val_loss: 0.9673 - val_accuracy: 0.4167\n",
            "Epoch 14/40\n",
            "2/2 [==============================] - 0s 33ms/step - loss: 1.0113 - accuracy: 0.4792 - val_loss: 0.9493 - val_accuracy: 0.5000\n",
            "Epoch 15/40\n",
            "2/2 [==============================] - 0s 33ms/step - loss: 0.9961 - accuracy: 0.5625 - val_loss: 0.9377 - val_accuracy: 0.4167\n",
            "Epoch 16/40\n",
            "2/2 [==============================] - 0s 33ms/step - loss: 1.0227 - accuracy: 0.5625 - val_loss: 0.8800 - val_accuracy: 0.6667\n",
            "Epoch 17/40\n",
            "2/2 [==============================] - 0s 39ms/step - loss: 0.9770 - accuracy: 0.5000 - val_loss: 0.8613 - val_accuracy: 0.8333\n",
            "Epoch 18/40\n",
            "2/2 [==============================] - 0s 35ms/step - loss: 0.9347 - accuracy: 0.6250 - val_loss: 0.9091 - val_accuracy: 0.8333\n",
            "Epoch 19/40\n",
            "2/2 [==============================] - 0s 34ms/step - loss: 0.9857 - accuracy: 0.4792 - val_loss: 0.8645 - val_accuracy: 0.6667\n",
            "Epoch 20/40\n",
            "2/2 [==============================] - 0s 33ms/step - loss: 0.9557 - accuracy: 0.5000 - val_loss: 1.0334 - val_accuracy: 0.4167\n",
            "Epoch 21/40\n",
            "2/2 [==============================] - 0s 49ms/step - loss: 0.9498 - accuracy: 0.5625 - val_loss: 0.9103 - val_accuracy: 0.4167\n",
            "Epoch 22/40\n",
            "2/2 [==============================] - 0s 34ms/step - loss: 1.0058 - accuracy: 0.5625 - val_loss: 0.8203 - val_accuracy: 0.7500\n",
            "Epoch 23/40\n",
            "2/2 [==============================] - 0s 34ms/step - loss: 0.9348 - accuracy: 0.5625 - val_loss: 0.9248 - val_accuracy: 0.4167\n",
            "Epoch 24/40\n",
            "2/2 [==============================] - 0s 45ms/step - loss: 0.8890 - accuracy: 0.5833 - val_loss: 0.8352 - val_accuracy: 0.7500\n",
            "Epoch 25/40\n",
            "2/2 [==============================] - 0s 33ms/step - loss: 0.8008 - accuracy: 0.7500 - val_loss: 0.7351 - val_accuracy: 0.8333\n",
            "Epoch 26/40\n",
            "2/2 [==============================] - 0s 34ms/step - loss: 0.8915 - accuracy: 0.5000 - val_loss: 0.8146 - val_accuracy: 0.7500\n",
            "Epoch 27/40\n",
            "2/2 [==============================] - 0s 35ms/step - loss: 0.8096 - accuracy: 0.6250 - val_loss: 0.7667 - val_accuracy: 0.6667\n",
            "Epoch 28/40\n",
            "2/2 [==============================] - 0s 43ms/step - loss: 0.9696 - accuracy: 0.3958 - val_loss: 0.9627 - val_accuracy: 0.4167\n",
            "Epoch 29/40\n",
            "2/2 [==============================] - 0s 35ms/step - loss: 0.9888 - accuracy: 0.4792 - val_loss: 0.7092 - val_accuracy: 0.8333\n",
            "Epoch 30/40\n",
            "2/2 [==============================] - 0s 36ms/step - loss: 0.7615 - accuracy: 0.6458 - val_loss: 0.7042 - val_accuracy: 0.8333\n",
            "Epoch 31/40\n",
            "2/2 [==============================] - 0s 35ms/step - loss: 0.6937 - accuracy: 0.7292 - val_loss: 0.6806 - val_accuracy: 0.7500\n",
            "Epoch 32/40\n",
            "2/2 [==============================] - 0s 34ms/step - loss: 0.7674 - accuracy: 0.6667 - val_loss: 0.6539 - val_accuracy: 0.8333\n",
            "Epoch 33/40\n",
            "2/2 [==============================] - 0s 34ms/step - loss: 0.7839 - accuracy: 0.6250 - val_loss: 0.6844 - val_accuracy: 0.8333\n",
            "Epoch 34/40\n",
            "2/2 [==============================] - 0s 34ms/step - loss: 0.7492 - accuracy: 0.6458 - val_loss: 0.6442 - val_accuracy: 0.7500\n",
            "Epoch 35/40\n",
            "2/2 [==============================] - 0s 35ms/step - loss: 0.7753 - accuracy: 0.6458 - val_loss: 0.8767 - val_accuracy: 0.4167\n",
            "Epoch 36/40\n",
            "2/2 [==============================] - 0s 33ms/step - loss: 0.8892 - accuracy: 0.5000 - val_loss: 0.6852 - val_accuracy: 0.8333\n",
            "Epoch 37/40\n",
            "2/2 [==============================] - 0s 33ms/step - loss: 0.7496 - accuracy: 0.6458 - val_loss: 0.8046 - val_accuracy: 0.6667\n",
            "Epoch 38/40\n",
            "2/2 [==============================] - 0s 34ms/step - loss: 0.8467 - accuracy: 0.6250 - val_loss: 0.6698 - val_accuracy: 1.0000\n",
            "Epoch 39/40\n",
            "2/2 [==============================] - 0s 36ms/step - loss: 0.7114 - accuracy: 0.6458 - val_loss: 0.6033 - val_accuracy: 0.8333\n",
            "Epoch 40/40\n",
            "2/2 [==============================] - 0s 33ms/step - loss: 0.7717 - accuracy: 0.6458 - val_loss: 0.6949 - val_accuracy: 0.7500\n"
          ]
        }
      ]
    },
    {
      "cell_type": "code",
      "source": [
        "test_eval = sport_model.evaluate(test_X, test_Y_one_hot, verbose=1)\n",
        "\n",
        "print('Test loss:', test_eval[0])\n",
        "print('Test accuracy:', test_eval[1])"
      ],
      "metadata": {
        "colab": {
          "base_uri": "https://localhost:8080/"
        },
        "id": "a71WpVnUS8q7",
        "outputId": "3695a6a4-2314-41e6-e55b-1e6875a8ca07"
      },
      "execution_count": null,
      "outputs": [
        {
          "output_type": "stream",
          "name": "stdout",
          "text": [
            "1/1 [==============================] - 0s 84ms/step - loss: 0.7977 - accuracy: 0.8333\n",
            "Test loss: 0.7977226376533508\n",
            "Test accuracy: 0.8333333134651184\n"
          ]
        }
      ]
    },
    {
      "cell_type": "code",
      "source": [],
      "metadata": {
        "id": "xj8UjCxSCPv8"
      },
      "execution_count": null,
      "outputs": []
    }
  ]
}